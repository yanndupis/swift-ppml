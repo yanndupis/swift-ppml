{
 "cells": [
  {
   "cell_type": "markdown",
   "metadata": {},
   "source": [
    "# Encrypted Inference Example"
   ]
  },
  {
   "cell_type": "code",
   "execution_count": 1,
   "metadata": {},
   "outputs": [
    {
     "name": "stdout",
     "output_type": "stream",
     "text": [
      "Installing packages:\n",
      "\t.package(url: \"https://github.com/tensorflow/swift-models\", .branch(\"master\"))\n",
      "\t\tDatasets\n",
      "\t.package(path: \"/root/swift-ppml/secure_computation/ppmlNB_tensor\")\n",
      "\t\tppmlNB_tensor\n",
      "With SwiftPM flags: []\n",
      "Working in: /tmp/tmpfqiglkn3/swift-install\n",
      "[1/2] Compiling jupyterInstalledPackages jupyterInstalledPackages.swift\n",
      "[2/3] Merging module jupyterInstalledPackages\n",
      "Initializing Swift...\n",
      "Installation complete!\n"
     ]
    }
   ],
   "source": [
    "%install-location $cwd/swift-install\n",
    "%install '.package(url: \"https://github.com/tensorflow/swift-models\", .branch(\"master\"))' Datasets\n",
    "%install '.package(path: \"$cwd/ppmlNB_tensor\")' ppmlNB_tensor"
   ]
  },
  {
   "cell_type": "code",
   "execution_count": 2,
   "metadata": {},
   "outputs": [],
   "source": [
    "import ppmlNB_tensor\n",
    "import TensorFlow"
   ]
  },
  {
   "cell_type": "markdown",
   "metadata": {},
   "source": [
    "## Public Training"
   ]
  },
  {
   "cell_type": "code",
   "execution_count": null,
   "metadata": {},
   "outputs": [
    {
     "name": "stdout",
     "output_type": "stream",
     "text": [
      "Loading resource: train-images-idx3-ubyte\n",
      "Loading resource: train-labels-idx1-ubyte\n",
      "2020-02-05 05:53:18.499367: W tensorflow/core/framework/cpu_allocator_impl.cc:81] Allocation of 188160000 exceeds 10% of system memory.\n",
      "2020-02-05 05:53:18.556751: I tensorflow/core/platform/cpu_feature_guard.cc:142] Your CPU supports instructions that this TensorFlow binary was not compiled to use: SSE4.1 SSE4.2 AVX AVX2 FMA\n",
      "2020-02-05 05:53:18.582334: I tensorflow/core/platform/profile_utils/cpu_utils.cc:94] CPU Frequency: 2208000000 Hz\n",
      "2020-02-05 05:53:18.584070: I tensorflow/compiler/xla/service/service.cc:168] XLA service 0x14734f0 initialized for platform Host (this does not guarantee that XLA will be used). Devices:\n",
      "2020-02-05 05:53:18.584118: I tensorflow/compiler/xla/service/service.cc:176]   StreamExecutor device (0): Host, Default Version\n",
      "2020-02-05 05:53:18.588581: W tensorflow/core/framework/cpu_allocator_impl.cc:81] Allocation of 188160000 exceeds 10% of system memory.\n",
      "Loading resource: t10k-images-idx3-ubyte\n",
      "Loading resource: t10k-labels-idx1-ubyte\n",
      "2020-02-05 05:53:19.288532: W tensorflow/core/framework/cpu_allocator_impl.cc:81] Allocation of 31360000 exceeds 10% of system memory.\n",
      "2020-02-05 05:53:19.297672: W tensorflow/core/framework/cpu_allocator_impl.cc:81] Allocation of 31360000 exceeds 10% of system memory.\n",
      "Beginning training...\n",
      "[Epoch 1] Training Loss: 0.571957, Training Accuracy: 51814/60032 (0.86310637), Test Loss: 0.37681648, Test Accuracy: 8991/10112 (0.8891416)\n",
      "[Epoch 2] Training Loss: 0.37377846, Training Accuracy: 53864/60032 (0.8972548), Test Loss: 0.3382882, Test Accuracy: 9082/10112 (0.89814085)\n",
      "[Epoch 3] Training Loss: 0.3421719, Training Accuracy: 54309/60032 (0.9046675), Test Loss: 0.31396064, Test Accuracy: 9136/10112 (0.903481)\n",
      "[Epoch 4] Training Loss: 0.32596016, Training Accuracy: 54552/60032 (0.90871537), Test Loss: 0.30371737, Test Accuracy: 9156/10112 (0.90545887)\n",
      "[Epoch 5] Training Loss: 0.31522816, Training Accuracy: 54775/60032 (0.91243005), Test Loss: 0.29787037, Test Accuracy: 9186/10112 (0.9084256)\n",
      "[Epoch 6] Training Loss: 0.3078428, Training Accuracy: 54867/60032 (0.91396254), Test Loss: 0.2934358, Test Accuracy: 9182/10112 (0.9080301)\n",
      "[Epoch 7] Training Loss: 0.30188295, Training Accuracy: 54965/60032 (0.915595), Test Loss: 0.28801125, Test Accuracy: 9200/10112 (0.9098101)\n",
      "[Epoch 8] Training Loss: 0.29751092, Training Accuracy: 55049/60032 (0.9169943), Test Loss: 0.2855709, Test Accuracy: 9206/10112 (0.9104035)\n",
      "[Epoch 9] Training Loss: 0.29334766, Training Accuracy: 55097/60032 (0.91779387), Test Loss: 0.283385, Test Accuracy: 9206/10112 (0.9104035)\n"
     ]
    }
   ],
   "source": [
    "import Datasets\n",
    "\n",
    "let epochCount = 12\n",
    "let batchSize = 128\n",
    "\n",
    "let dataset = MNIST()\n",
    "\n",
    "var classifier = Sequential {\n",
    "    Flatten<Float>()\n",
    "    Dense<Float>(inputSize: 784, outputSize: 10)\n",
    "}\n",
    "\n",
    "let optimizer = SGD(for: classifier, learningRate: 0.1)\n",
    "\n",
    "print(\"Beginning training...\")\n",
    "\n",
    "struct Statistics {\n",
    "    var correctGuessCount: Int = 0\n",
    "    var totalGuessCount: Int = 0\n",
    "    var totalLoss: Float = 0\n",
    "    var batches: Int = 0\n",
    "}\n",
    "\n",
    "let testBatches = dataset.testDataset.batched(batchSize)\n",
    "\n",
    "// The training loop.\n",
    "for epoch in 1...epochCount {\n",
    "    var trainStats = Statistics()\n",
    "    var testStats = Statistics()\n",
    "    let trainingShuffled = dataset.trainingDataset.shuffled(\n",
    "        sampleCount: dataset.trainingExampleCount, randomSeed: Int64(epoch))\n",
    "\n",
    "    Context.local.learningPhase = .training\n",
    "    for batch in trainingShuffled.batched(batchSize) {\n",
    "        let (labels, images) = (batch.label, batch.data)\n",
    "        // Compute the gradient with respect to the model.\n",
    "        let 𝛁model = TensorFlow.gradient(at: classifier) { classifier -> Tensor<Float> in\n",
    "            let ŷ = classifier(images)\n",
    "            let correctPredictions = ŷ.argmax(squeezingAxis: 1) .== labels\n",
    "            trainStats.correctGuessCount += Int(\n",
    "                Tensor<Int32>(correctPredictions).sum().scalarized())\n",
    "            trainStats.totalGuessCount += batchSize\n",
    "            let loss = softmaxCrossEntropy(logits: ŷ, labels: labels)\n",
    "            trainStats.totalLoss += loss.scalarized()\n",
    "            trainStats.batches += 1\n",
    "            return loss\n",
    "        }\n",
    "        // Update the model's differentiable variables along the gradient vector.\n",
    "        optimizer.update(&classifier, along: 𝛁model)\n",
    "    }\n",
    "\n",
    "    Context.local.learningPhase = .inference\n",
    "    for batch in testBatches {\n",
    "        let (labels, images) = (batch.label, batch.data)\n",
    "        // Compute loss on test set\n",
    "        let ŷ = classifier(images)\n",
    "        let correctPredictions = ŷ.argmax(squeezingAxis: 1) .== labels\n",
    "        testStats.correctGuessCount += Int(Tensor<Int32>(correctPredictions).sum().scalarized())\n",
    "        testStats.totalGuessCount += batchSize\n",
    "        let loss = softmaxCrossEntropy(logits: ŷ, labels: labels)\n",
    "        testStats.totalLoss += loss.scalarized()\n",
    "        testStats.batches += 1\n",
    "    }\n",
    "\n",
    "    let trainAccuracy = Float(trainStats.correctGuessCount) / Float(trainStats.totalGuessCount)\n",
    "    let testAccuracy = Float(testStats.correctGuessCount) / Float(testStats.totalGuessCount)\n",
    "    print(\n",
    "        \"\"\"\n",
    "        [Epoch \\(epoch)] \\\n",
    "        Training Loss: \\(trainStats.totalLoss / Float(trainStats.batches)), \\\n",
    "        Training Accuracy: \\(trainStats.correctGuessCount)/\\(trainStats.totalGuessCount) \\\n",
    "        (\\(trainAccuracy)), \\\n",
    "        Test Loss: \\(testStats.totalLoss / Float(testStats.batches)), \\\n",
    "        Test Accuracy: \\(testStats.correctGuessCount)/\\(testStats.totalGuessCount) \\\n",
    "        (\\(testAccuracy))\n",
    "        \"\"\")\n",
    "}"
   ]
  },
  {
   "cell_type": "code",
   "execution_count": null,
   "metadata": {},
   "outputs": [],
   "source": [
    "// Extract weights\n",
    "let w1 = classifier.layer2.weight\n",
    "let b1 = classifier.layer2.bias"
   ]
  },
  {
   "cell_type": "code",
   "execution_count": null,
   "metadata": {},
   "outputs": [],
   "source": [
    "func get_input(_ nb_input: Int) -> (Tensor<Float>, Tensor<Int32>){\n",
    "    let dataset = MNIST()\n",
    "    let trainingShuffled = dataset.trainingDataset.shuffled(\n",
    "        sampleCount: dataset.trainingExampleCount, \n",
    "        randomSeed: Int64(1)).batched(nb_input)\n",
    "    var train_iter = trainingShuffled.self.makeIterator()\n",
    "    var image = train_iter.next().unsafelyUnwrapped\n",
    "    return (image.data.reshaped(to: [nb_input, 784]), image.label)\n",
    "    \n",
    "}"
   ]
  },
  {
   "cell_type": "code",
   "execution_count": null,
   "metadata": {},
   "outputs": [],
   "source": [
    "let (input, label) = get_input(3)"
   ]
  },
  {
   "cell_type": "markdown",
   "metadata": {},
   "source": [
    "## Encrypted Inference"
   ]
  },
  {
   "cell_type": "code",
   "execution_count": null,
   "metadata": {},
   "outputs": [],
   "source": [
    "func private_prediction(input: Tensor<Float>) -> PrivateTensor{\n",
    "    let input_private = PrivateTensor.from_values(values: input)\n",
    "    let w1_private = PrivateTensor.from_values(values: w1)\n",
    "    let b1_private = PrivateTensor.from_values(values: b1)\n",
    "    let private_pred = add(x: matmul(x: input_private, y: w1_private), y: b1_private)\n",
    "    return private_pred\n",
    "}"
   ]
  },
  {
   "cell_type": "code",
   "execution_count": null,
   "metadata": {},
   "outputs": [],
   "source": [
    "for i in 0...2 {\n",
    "    var private_output = private_prediction(input: input[i].reshaped(to: [1,784]))\n",
    "    var decode_prediction = private_output.reveal().decode()\n",
    "    var private_class = decode_prediction.argmax(squeezingAxis: 1)[0]\n",
    "    var exp_class = label[i]\n",
    "    print(\"Private prediction result: \\(private_class). Expected prediction: \\(exp_class)\")\n",
    "}"
   ]
  },
  {
   "cell_type": "code",
   "execution_count": null,
   "metadata": {},
   "outputs": [],
   "source": []
  }
 ],
 "metadata": {
  "kernelspec": {
   "display_name": "Swift",
   "language": "swift",
   "name": "swift"
  },
  "language_info": {
   "file_extension": ".swift",
   "mimetype": "text/x-swift",
   "name": "swift",
   "version": ""
  }
 },
 "nbformat": 4,
 "nbformat_minor": 2
}
