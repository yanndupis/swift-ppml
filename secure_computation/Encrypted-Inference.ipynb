{
 "cells": [
  {
   "cell_type": "markdown",
   "metadata": {},
   "source": [
    "# Encrypted Inference Example"
   ]
  },
  {
   "cell_type": "code",
   "execution_count": 1,
   "metadata": {},
   "outputs": [
    {
     "name": "stdout",
     "output_type": "stream",
     "text": [
      "Installing packages:\n",
      "\t.package(url: \"https://github.com/tensorflow/swift-models\", .branch(\"master\"))\n",
      "\t\tDatasets\n",
      "\t.package(path: \"/root/swift-ppml/secure_computation/ppmlNB_tensor\")\n",
      "\t\tppmlNB_tensor\n",
      "With SwiftPM flags: []\n",
      "Working in: /tmp/tmpkxufudx6/swift-install\n",
      "[1/2] Compiling jupyterInstalledPackages jupyterInstalledPackages.swift\n",
      "[2/3] Merging module jupyterInstalledPackages\n",
      "Initializing Swift...\n",
      "Installation complete!\n"
     ]
    }
   ],
   "source": [
    "%install-location $cwd/swift-install\n",
    "%install '.package(url: \"https://github.com/tensorflow/swift-models\", .branch(\"master\"))' Datasets\n",
    "%install '.package(path: \"$cwd/ppmlNB_tensor\")' ppmlNB_tensor"
   ]
  },
  {
   "cell_type": "code",
   "execution_count": 2,
   "metadata": {},
   "outputs": [],
   "source": [
    "import ppmlNB_tensor\n",
    "import TensorFlow"
   ]
  },
  {
   "cell_type": "markdown",
   "metadata": {},
   "source": [
    "## Public Training"
   ]
  },
  {
   "cell_type": "code",
   "execution_count": 3,
   "metadata": {},
   "outputs": [
    {
     "name": "stdout",
     "output_type": "stream",
     "text": [
      "Loading resource: train-images-idx3-ubyte\n",
      "Loading resource: train-labels-idx1-ubyte\n",
      "2020-02-05 03:47:51.219991: W tensorflow/core/framework/cpu_allocator_impl.cc:81] Allocation of 188160000 exceeds 10% of system memory.\n",
      "2020-02-05 03:47:51.283980: I tensorflow/core/platform/cpu_feature_guard.cc:142] Your CPU supports instructions that this TensorFlow binary was not compiled to use: SSE4.1 SSE4.2 AVX AVX2 FMA\n",
      "2020-02-05 03:47:51.311763: I tensorflow/core/platform/profile_utils/cpu_utils.cc:94] CPU Frequency: 2208000000 Hz\n",
      "2020-02-05 03:47:51.314070: I tensorflow/compiler/xla/service/service.cc:168] XLA service 0x1fd44f0 initialized for platform Host (this does not guarantee that XLA will be used). Devices:\n",
      "2020-02-05 03:47:51.314169: I tensorflow/compiler/xla/service/service.cc:176]   StreamExecutor device (0): Host, Default Version\n",
      "2020-02-05 03:47:51.318478: W tensorflow/core/framework/cpu_allocator_impl.cc:81] Allocation of 188160000 exceeds 10% of system memory.\n",
      "Loading resource: t10k-images-idx3-ubyte\n",
      "Loading resource: t10k-labels-idx1-ubyte\n",
      "2020-02-05 03:47:52.032380: W tensorflow/core/framework/cpu_allocator_impl.cc:81] Allocation of 31360000 exceeds 10% of system memory.\n",
      "2020-02-05 03:47:52.041423: W tensorflow/core/framework/cpu_allocator_impl.cc:81] Allocation of 31360000 exceeds 10% of system memory.\n",
      "Beginning training...\n",
      "[Epoch 1] Training Loss: 0.5721712, Training Accuracy: 51773/60032 (0.86242336), Test Loss: 0.3766692, Test Accuracy: 8997/10112 (0.889735)\n",
      "[Epoch 2] Training Loss: 0.37368405, Training Accuracy: 53865/60032 (0.89727145), Test Loss: 0.33819586, Test Accuracy: 9084/10112 (0.8983386)\n",
      "[Epoch 3] Training Loss: 0.34210736, Training Accuracy: 54317/60032 (0.9048008), Test Loss: 0.3139, Test Accuracy: 9134/10112 (0.90328324)\n",
      "[Epoch 4] Training Loss: 0.32591125, Training Accuracy: 54554/60032 (0.9087487), Test Loss: 0.30365404, Test Accuracy: 9159/10112 (0.9057555)\n",
      "[Epoch 5] Training Loss: 0.31519234, Training Accuracy: 54764/60032 (0.9122468), Test Loss: 0.29783547, Test Accuracy: 9185/10112 (0.90832675)\n",
      "[Epoch 6] Training Loss: 0.30781436, Training Accuracy: 54865/60032 (0.9139292), Test Loss: 0.29339415, Test Accuracy: 9181/10112 (0.90793115)\n",
      "[Epoch 7] Training Loss: 0.30186146, Training Accuracy: 54968/60032 (0.915645), Test Loss: 0.28798974, Test Accuracy: 9201/10112 (0.909909)\n",
      "[Epoch 8] Training Loss: 0.2974915, Training Accuracy: 55041/60032 (0.916861), Test Loss: 0.28555444, Test Accuracy: 9203/10112 (0.9101068)\n",
      "[Epoch 9] Training Loss: 0.293331, Training Accuracy: 55094/60032 (0.91774386), Test Loss: 0.2833674, Test Accuracy: 9205/10112 (0.9103046)\n",
      "[Epoch 10] Training Loss: 0.29026538, Training Accuracy: 55131/60032 (0.91836023), Test Loss: 0.28163427, Test Accuracy: 9203/10112 (0.9101068)\n",
      "[Epoch 11] Training Loss: 0.28741363, Training Accuracy: 55179/60032 (0.91915977), Test Loss: 0.27897495, Test Accuracy: 9204/10112 (0.9102057)\n",
      "[Epoch 12] Training Loss: 0.2850403, Training Accuracy: 55252/60032 (0.9203758), Test Loss: 0.2778636, Test Accuracy: 9218/10112 (0.9115902)\n"
     ]
    }
   ],
   "source": [
    "import Datasets\n",
    "\n",
    "let epochCount = 12\n",
    "let batchSize = 128\n",
    "\n",
    "let dataset = MNIST()\n",
    "\n",
    "var classifier = Sequential {\n",
    "    Flatten<Float>()\n",
    "    Dense<Float>(inputSize: 784, outputSize: 10)\n",
    "}\n",
    "\n",
    "let optimizer = SGD(for: classifier, learningRate: 0.1)\n",
    "\n",
    "print(\"Beginning training...\")\n",
    "\n",
    "struct Statistics {\n",
    "    var correctGuessCount: Int = 0\n",
    "    var totalGuessCount: Int = 0\n",
    "    var totalLoss: Float = 0\n",
    "    var batches: Int = 0\n",
    "}\n",
    "\n",
    "let testBatches = dataset.testDataset.batched(batchSize)\n",
    "\n",
    "// The training loop.\n",
    "for epoch in 1...epochCount {\n",
    "    var trainStats = Statistics()\n",
    "    var testStats = Statistics()\n",
    "    let trainingShuffled = dataset.trainingDataset.shuffled(\n",
    "        sampleCount: dataset.trainingExampleCount, randomSeed: Int64(epoch))\n",
    "\n",
    "    Context.local.learningPhase = .training\n",
    "    for batch in trainingShuffled.batched(batchSize) {\n",
    "        let (labels, images) = (batch.label, batch.data)\n",
    "        // Compute the gradient with respect to the model.\n",
    "        let 𝛁model = TensorFlow.gradient(at: classifier) { classifier -> Tensor<Float> in\n",
    "            let ŷ = classifier(images)\n",
    "            let correctPredictions = ŷ.argmax(squeezingAxis: 1) .== labels\n",
    "            trainStats.correctGuessCount += Int(\n",
    "                Tensor<Int32>(correctPredictions).sum().scalarized())\n",
    "            trainStats.totalGuessCount += batchSize\n",
    "            let loss = softmaxCrossEntropy(logits: ŷ, labels: labels)\n",
    "            trainStats.totalLoss += loss.scalarized()\n",
    "            trainStats.batches += 1\n",
    "            return loss\n",
    "        }\n",
    "        // Update the model's differentiable variables along the gradient vector.\n",
    "        optimizer.update(&classifier, along: 𝛁model)\n",
    "    }\n",
    "\n",
    "    Context.local.learningPhase = .inference\n",
    "    for batch in testBatches {\n",
    "        let (labels, images) = (batch.label, batch.data)\n",
    "        // Compute loss on test set\n",
    "        let ŷ = classifier(images)\n",
    "        let correctPredictions = ŷ.argmax(squeezingAxis: 1) .== labels\n",
    "        testStats.correctGuessCount += Int(Tensor<Int32>(correctPredictions).sum().scalarized())\n",
    "        testStats.totalGuessCount += batchSize\n",
    "        let loss = softmaxCrossEntropy(logits: ŷ, labels: labels)\n",
    "        testStats.totalLoss += loss.scalarized()\n",
    "        testStats.batches += 1\n",
    "    }\n",
    "\n",
    "    let trainAccuracy = Float(trainStats.correctGuessCount) / Float(trainStats.totalGuessCount)\n",
    "    let testAccuracy = Float(testStats.correctGuessCount) / Float(testStats.totalGuessCount)\n",
    "    print(\n",
    "        \"\"\"\n",
    "        [Epoch \\(epoch)] \\\n",
    "        Training Loss: \\(trainStats.totalLoss / Float(trainStats.batches)), \\\n",
    "        Training Accuracy: \\(trainStats.correctGuessCount)/\\(trainStats.totalGuessCount) \\\n",
    "        (\\(trainAccuracy)), \\\n",
    "        Test Loss: \\(testStats.totalLoss / Float(testStats.batches)), \\\n",
    "        Test Accuracy: \\(testStats.correctGuessCount)/\\(testStats.totalGuessCount) \\\n",
    "        (\\(testAccuracy))\n",
    "        \"\"\")\n",
    "}"
   ]
  },
  {
   "cell_type": "code",
   "execution_count": 4,
   "metadata": {},
   "outputs": [],
   "source": [
    "let w1 = classifier.layer2.weight\n",
    "let b1 = classifier.layer2.bias"
   ]
  },
  {
   "cell_type": "code",
   "execution_count": 5,
   "metadata": {},
   "outputs": [],
   "source": [
    "func get_input() -> (Tensor<Float>, Tensor<Int32>){\n",
    "    let dataset = MNIST()\n",
    "    let trainingShuffled = dataset.trainingDataset.shuffled(\n",
    "        sampleCount: dataset.trainingExampleCount, randomSeed: Int64(1))\n",
    "    var train_iter = trainingShuffled.self.makeIterator()\n",
    "    var image = train_iter.next().unsafelyUnwrapped\n",
    "    return (image.data.reshaped(to: [1, 784]), image.label)\n",
    "    \n",
    "}"
   ]
  },
  {
   "cell_type": "code",
   "execution_count": 6,
   "metadata": {},
   "outputs": [
    {
     "name": "stdout",
     "output_type": "stream",
     "text": [
      "Loading resource: train-images-idx3-ubyte\n",
      "Loading resource: train-labels-idx1-ubyte\n",
      "2020-02-05 03:48:24.174079: W tensorflow/core/framework/cpu_allocator_impl.cc:81] Allocation of 188160000 exceeds 10% of system memory.\n",
      "Loading resource: t10k-images-idx3-ubyte\n",
      "Loading resource: t10k-labels-idx1-ubyte\n"
     ]
    }
   ],
   "source": [
    "let (input, label) = get_input()"
   ]
  },
  {
   "cell_type": "markdown",
   "metadata": {},
   "source": [
    "## Encrypted Inference"
   ]
  },
  {
   "cell_type": "code",
   "execution_count": 7,
   "metadata": {},
   "outputs": [],
   "source": [
    "let input_private = PrivateTensor.from_values(values: Tensor<Double>(input))\n",
    "let w1_private = PrivateTensor.from_values(values: Tensor<Double>(w1))\n",
    "let b1_private = PrivateTensor.from_values(values: Tensor<Double>(b1))"
   ]
  },
  {
   "cell_type": "code",
   "execution_count": 8,
   "metadata": {},
   "outputs": [],
   "source": [
    "let private_prediction = add(x: matmul(x: input_private, y: w1_private), y: b1_private)"
   ]
  },
  {
   "cell_type": "code",
   "execution_count": 9,
   "metadata": {},
   "outputs": [],
   "source": [
    "let decode_prediction = private_prediction.reveal().decode()"
   ]
  },
  {
   "cell_type": "code",
   "execution_count": 10,
   "metadata": {},
   "outputs": [
    {
     "name": "stdout",
     "output_type": "stream",
     "text": [
      "Private prediction:  [[  14.44901691815272, -10.358481938728852, 0.36655997561347353,  -4.184727937814357,\r\n",
      "   -8.945130315500686,   4.450845907636031,   5.928516994360616,  -1.699588477366255,\r\n",
      "   2.4968754762993446, -2.6372504191434234]]\r\n"
     ]
    }
   ],
   "source": [
    "print(\"Private prediction: \", decode_prediction)"
   ]
  },
  {
   "cell_type": "code",
   "execution_count": 11,
   "metadata": {},
   "outputs": [
    {
     "name": "stdout",
     "output_type": "stream",
     "text": [
      "Public prediction:  [[ 14.457324, -10.367435, 0.36947906,  -4.184661,  -8.950744,   4.455301,  5.9329185, -1.7006569,\r\n",
      "   2.4987278, -2.6387553]]\r\n"
     ]
    }
   ],
   "source": [
    "let public_prediction = Raw.add(Raw.matMul(input, w1), b1)\n",
    "print(\"Public prediction: \", public_prediction)"
   ]
  },
  {
   "cell_type": "code",
   "execution_count": null,
   "metadata": {},
   "outputs": [],
   "source": []
  }
 ],
 "metadata": {
  "kernelspec": {
   "display_name": "Swift",
   "language": "swift",
   "name": "swift"
  },
  "language_info": {
   "file_extension": ".swift",
   "mimetype": "text/x-swift",
   "name": "swift",
   "version": ""
  }
 },
 "nbformat": 4,
 "nbformat_minor": 2
}
