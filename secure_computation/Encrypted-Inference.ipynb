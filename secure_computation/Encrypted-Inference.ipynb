{
 "cells": [
  {
   "cell_type": "markdown",
   "metadata": {},
   "source": [
    "# Encrypted Inference Example"
   ]
  },
  {
   "cell_type": "code",
   "execution_count": 1,
   "metadata": {},
   "outputs": [
    {
     "name": "stdout",
     "output_type": "stream",
     "text": [
      "Installing packages:\n",
      "\t.package(url: \"https://github.com/tensorflow/swift-models\", .branch(\"master\"))\n",
      "\t\tDatasets\n",
      "\t.package(path: \"/root/swift-ppml/secure_computation/ppmlNB_tensor\")\n",
      "\t\tppmlNB_tensor\n",
      "With SwiftPM flags: []\n",
      "Working in: /tmp/tmp1vjm4zmb/swift-install\n",
      "[1/2] Compiling jupyterInstalledPackages jupyterInstalledPackages.swift\n",
      "[2/3] Merging module jupyterInstalledPackages\n",
      "Initializing Swift...\n",
      "Installation complete!\n"
     ]
    }
   ],
   "source": [
    "%install-location $cwd/swift-install\n",
    "%install '.package(url: \"https://github.com/tensorflow/swift-models\", .branch(\"master\"))' Datasets\n",
    "%install '.package(path: \"$cwd/ppmlNB_tensor\")' ppmlNB_tensor"
   ]
  },
  {
   "cell_type": "code",
   "execution_count": 2,
   "metadata": {},
   "outputs": [],
   "source": [
    "import ppmlNB_tensor\n",
    "import TensorFlow"
   ]
  },
  {
   "cell_type": "markdown",
   "metadata": {},
   "source": [
    "## Public Training"
   ]
  },
  {
   "cell_type": "code",
   "execution_count": 3,
   "metadata": {},
   "outputs": [
    {
     "name": "stdout",
     "output_type": "stream",
     "text": [
      "Loading resource: train-images-idx3-ubyte\n",
      "Loading resource: train-labels-idx1-ubyte\n",
      "2020-01-27 03:12:22.013515: W tensorflow/core/framework/cpu_allocator_impl.cc:81] Allocation of 188160000 exceeds 10% of system memory.\n",
      "2020-01-27 03:12:22.062468: I tensorflow/core/platform/cpu_feature_guard.cc:142] Your CPU supports instructions that this TensorFlow binary was not compiled to use: SSE4.1 SSE4.2 AVX AVX2 FMA\n",
      "2020-01-27 03:12:22.076327: I tensorflow/core/platform/profile_utils/cpu_utils.cc:94] CPU Frequency: 2208000000 Hz\n",
      "2020-01-27 03:12:22.079033: I tensorflow/compiler/xla/service/service.cc:168] XLA service 0x15894f0 initialized for platform Host (this does not guarantee that XLA will be used). Devices:\n",
      "2020-01-27 03:12:22.079123: I tensorflow/compiler/xla/service/service.cc:176]   StreamExecutor device (0): Host, Default Version\n",
      "2020-01-27 03:12:22.081025: W tensorflow/core/framework/cpu_allocator_impl.cc:81] Allocation of 188160000 exceeds 10% of system memory.\n",
      "Loading resource: t10k-images-idx3-ubyte\n",
      "Loading resource: t10k-labels-idx1-ubyte\n",
      "Beginning training...\n",
      "[Epoch 1] Training Loss: 0.57207847, Training Accuracy: 51814/60032 (0.86310637), Test Loss: 0.37676248, Test Accuracy: 8992/10112 (0.8892405)\n",
      "[Epoch 2] Training Loss: 0.37374407, Training Accuracy: 53861/60032 (0.8972048), Test Loss: 0.33823147, Test Accuracy: 9085/10112 (0.8984375)\n",
      "[Epoch 3] Training Loss: 0.34211963, Training Accuracy: 54311/60032 (0.9047008), Test Loss: 0.31390068, Test Accuracy: 9136/10112 (0.903481)\n",
      "[Epoch 4] Training Loss: 0.32590172, Training Accuracy: 54558/60032 (0.9088153), Test Loss: 0.30365804, Test Accuracy: 9157/10112 (0.90555775)\n",
      "[Epoch 5] Training Loss: 0.31517577, Training Accuracy: 54775/60032 (0.91243005), Test Loss: 0.2978122, Test Accuracy: 9183/10112 (0.908129)\n",
      "[Epoch 6] Training Loss: 0.30779132, Training Accuracy: 54876/60032 (0.91411245), Test Loss: 0.29339516, Test Accuracy: 9181/10112 (0.90793115)\n",
      "[Epoch 7] Training Loss: 0.3018351, Training Accuracy: 54972/60032 (0.91571164), Test Loss: 0.28796813, Test Accuracy: 9201/10112 (0.909909)\n",
      "[Epoch 8] Training Loss: 0.29746386, Training Accuracy: 55042/60032 (0.9168777), Test Loss: 0.28553453, Test Accuracy: 9205/10112 (0.9103046)\n",
      "[Epoch 9] Training Loss: 0.29330474, Training Accuracy: 55096/60032 (0.9177772), Test Loss: 0.28335062, Test Accuracy: 9204/10112 (0.9102057)\n",
      "[Epoch 10] Training Loss: 0.29023978, Training Accuracy: 55152/60032 (0.91871), Test Loss: 0.28161615, Test Accuracy: 9204/10112 (0.9102057)\n",
      "[Epoch 11] Training Loss: 0.28738737, Training Accuracy: 55191/60032 (0.9193597), Test Loss: 0.27896488, Test Accuracy: 9202/10112 (0.9100079)\n",
      "[Epoch 12] Training Loss: 0.28501529, Training Accuracy: 55251/60032 (0.92035913), Test Loss: 0.27784973, Test Accuracy: 9220/10112 (0.911788)\n"
     ]
    }
   ],
   "source": [
    "import Datasets\n",
    "\n",
    "let epochCount = 12\n",
    "let batchSize = 128\n",
    "\n",
    "let dataset = MNIST()\n",
    "\n",
    "var classifier = Sequential {\n",
    "    Flatten<Float>()\n",
    "    Dense<Float>(inputSize: 784, outputSize: 10)\n",
    "}\n",
    "\n",
    "let optimizer = SGD(for: classifier, learningRate: 0.1)\n",
    "\n",
    "print(\"Beginning training...\")\n",
    "\n",
    "struct Statistics {\n",
    "    var correctGuessCount: Int = 0\n",
    "    var totalGuessCount: Int = 0\n",
    "    var totalLoss: Float = 0\n",
    "    var batches: Int = 0\n",
    "}\n",
    "\n",
    "let testBatches = dataset.testDataset.batched(batchSize)\n",
    "\n",
    "// The training loop.\n",
    "for epoch in 1...epochCount {\n",
    "    var trainStats = Statistics()\n",
    "    var testStats = Statistics()\n",
    "    let trainingShuffled = dataset.trainingDataset.shuffled(\n",
    "        sampleCount: dataset.trainingExampleCount, randomSeed: Int64(epoch))\n",
    "\n",
    "    Context.local.learningPhase = .training\n",
    "    for batch in trainingShuffled.batched(batchSize) {\n",
    "        let (labels, images) = (batch.label, batch.data)\n",
    "        // Compute the gradient with respect to the model.\n",
    "        let 𝛁model = TensorFlow.gradient(at: classifier) { classifier -> Tensor<Float> in\n",
    "            let ŷ = classifier(images)\n",
    "            let correctPredictions = ŷ.argmax(squeezingAxis: 1) .== labels\n",
    "            trainStats.correctGuessCount += Int(\n",
    "                Tensor<Int32>(correctPredictions).sum().scalarized())\n",
    "            trainStats.totalGuessCount += batchSize\n",
    "            let loss = softmaxCrossEntropy(logits: ŷ, labels: labels)\n",
    "            trainStats.totalLoss += loss.scalarized()\n",
    "            trainStats.batches += 1\n",
    "            return loss\n",
    "        }\n",
    "        // Update the model's differentiable variables along the gradient vector.\n",
    "        optimizer.update(&classifier, along: 𝛁model)\n",
    "    }\n",
    "\n",
    "    Context.local.learningPhase = .inference\n",
    "    for batch in testBatches {\n",
    "        let (labels, images) = (batch.label, batch.data)\n",
    "        // Compute loss on test set\n",
    "        let ŷ = classifier(images)\n",
    "        let correctPredictions = ŷ.argmax(squeezingAxis: 1) .== labels\n",
    "        testStats.correctGuessCount += Int(Tensor<Int32>(correctPredictions).sum().scalarized())\n",
    "        testStats.totalGuessCount += batchSize\n",
    "        let loss = softmaxCrossEntropy(logits: ŷ, labels: labels)\n",
    "        testStats.totalLoss += loss.scalarized()\n",
    "        testStats.batches += 1\n",
    "    }\n",
    "\n",
    "    let trainAccuracy = Float(trainStats.correctGuessCount) / Float(trainStats.totalGuessCount)\n",
    "    let testAccuracy = Float(testStats.correctGuessCount) / Float(testStats.totalGuessCount)\n",
    "    print(\n",
    "        \"\"\"\n",
    "        [Epoch \\(epoch)] \\\n",
    "        Training Loss: \\(trainStats.totalLoss / Float(trainStats.batches)), \\\n",
    "        Training Accuracy: \\(trainStats.correctGuessCount)/\\(trainStats.totalGuessCount) \\\n",
    "        (\\(trainAccuracy)), \\\n",
    "        Test Loss: \\(testStats.totalLoss / Float(testStats.batches)), \\\n",
    "        Test Accuracy: \\(testStats.correctGuessCount)/\\(testStats.totalGuessCount) \\\n",
    "        (\\(testAccuracy))\n",
    "        \"\"\")\n",
    "}"
   ]
  },
  {
   "cell_type": "code",
   "execution_count": 4,
   "metadata": {},
   "outputs": [],
   "source": [
    "let w1 = classifier.layer2.weight\n",
    "let b1 = classifier.layer2.bias"
   ]
  },
  {
   "cell_type": "code",
   "execution_count": 5,
   "metadata": {},
   "outputs": [],
   "source": [
    "func get_input() -> (Tensor<Float>, Tensor<Int32>){\n",
    "    let dataset = MNIST()\n",
    "    let trainingShuffled = dataset.trainingDataset.shuffled(\n",
    "        sampleCount: dataset.trainingExampleCount, randomSeed: Int64(1))\n",
    "    var train_iter = trainingShuffled.self.makeIterator()\n",
    "    var image = train_iter.next().unsafelyUnwrapped\n",
    "    return (image.data.reshaped(to: [1, 784]), image.label)\n",
    "    \n",
    "}"
   ]
  },
  {
   "cell_type": "code",
   "execution_count": 6,
   "metadata": {},
   "outputs": [
    {
     "name": "stdout",
     "output_type": "stream",
     "text": [
      "Loading resource: train-images-idx3-ubyte\n",
      "Loading resource: train-labels-idx1-ubyte\n",
      "2020-01-27 03:12:53.917135: W tensorflow/core/framework/cpu_allocator_impl.cc:81] Allocation of 188160000 exceeds 10% of system memory.\n",
      "2020-01-27 03:12:53.997714: W tensorflow/core/framework/cpu_allocator_impl.cc:81] Allocation of 188160000 exceeds 10% of system memory.\n",
      "Loading resource: t10k-images-idx3-ubyte\n",
      "Loading resource: t10k-labels-idx1-ubyte\n"
     ]
    }
   ],
   "source": [
    "let (input, label) = get_input()"
   ]
  },
  {
   "cell_type": "markdown",
   "metadata": {},
   "source": [
    "## Encrypted Inference"
   ]
  },
  {
   "cell_type": "code",
   "execution_count": 7,
   "metadata": {},
   "outputs": [],
   "source": [
    "let input_private = PrivateTensor.from_values(values: Tensor<Double>(input))\n",
    "let w1_private = PrivateTensor.from_values(values: Tensor<Double>(w1))\n",
    "let b1_private = PrivateTensor.from_values(values: Tensor<Double>(b1))"
   ]
  },
  {
   "cell_type": "code",
   "execution_count": null,
   "metadata": {},
   "outputs": [],
   "source": [
    "let private_prediction = add(x: matmul(x: input_private, y: w1_private), y: b1_private)"
   ]
  },
  {
   "cell_type": "code",
   "execution_count": null,
   "metadata": {},
   "outputs": [],
   "source": [
    "let decode_prediction = private_prediction.reveal().decode()"
   ]
  }
 ],
 "metadata": {
  "kernelspec": {
   "display_name": "Swift",
   "language": "swift",
   "name": "swift"
  },
  "language_info": {
   "file_extension": ".swift",
   "mimetype": "text/x-swift",
   "name": "swift",
   "version": ""
  }
 },
 "nbformat": 4,
 "nbformat_minor": 2
}
